{
 "cells": [
  {
   "cell_type": "code",
   "execution_count": 1,
   "metadata": {},
   "outputs": [],
   "source": [
    "from character import character"
   ]
  },
  {
   "cell_type": "code",
   "execution_count": 3,
   "metadata": {
    "scrolled": false
   },
   "outputs": [
    {
     "name": "stdout",
     "output_type": "stream",
     "text": [
      "Enter a Character NameNeidod\n",
      "Please chose a race, options are: android, human, kasatha, lashunta(korasha), lashunta(damaya), shirren, vesk, ysokishirren\n",
      "Chose a theme. Possible themes are: \"ace pilot, bounty hunter, icon, mercenary, outlaw, priest, scholar, spacefarer, xenoseeker, themelessoutlaw\n",
      "Chose a Class. Possible Classes are: envoy, mechanic, mystic, operative, solarian, soldier, technomancerenvoy\n",
      "Currently only point buy system is implemented, if you want to use another system figure\n",
      "                out the conversion yourself.\n",
      "envoy tend to want more points in Charisma or Dexterity and Intelligence\n",
      "You have 10 points left to spend. Chose one from (str)ength, (dex)terity, (con)stitution, (int)elligence, (wis)dom, (cha)rismastr\n",
      "You have 9 points left to spend. Chose one from (str)ength, (dex)terity, (con)stitution, (int)elligence, (wis)dom, (cha)rismastr\n",
      "You have 8 points left to spend. Chose one from (str)ength, (dex)terity, (con)stitution, (int)elligence, (wis)dom, (cha)rismastr\n",
      "You have 7 points left to spend. Chose one from (str)ength, (dex)terity, (con)stitution, (int)elligence, (wis)dom, (cha)rismastr\n",
      "You have 6 points left to spend. Chose one from (str)ength, (dex)terity, (con)stitution, (int)elligence, (wis)dom, (cha)rismastr\n",
      "You have 5 points left to spend. Chose one from (str)ength, (dex)terity, (con)stitution, (int)elligence, (wis)dom, (cha)rismastr\n",
      "You have 4 points left to spend. Chose one from (str)ength, (dex)terity, (con)stitution, (int)elligence, (wis)dom, (cha)rismadex\n",
      "You have 3 points left to spend. Chose one from (str)ength, (dex)terity, (con)stitution, (int)elligence, (wis)dom, (cha)rismadex\n",
      "You have 2 points left to spend. Chose one from (str)ength, (dex)terity, (con)stitution, (int)elligence, (wis)dom, (cha)rismadex\n",
      "You have 1 points left to spend. Chose one from (str)ength, (dex)terity, (con)stitution, (int)elligence, (wis)dom, (cha)rismadex\n",
      "please enter skill name to add a point to. Possible skills are: acrobatics, athletics, bluff, computers, culture, diplomacy, disguise, engineering, intimidate, life science, medicine, mysticism, perception, physical science, piloting, sense motive, slight of hand, stealth, survivalsurvival\n",
      "please enter skill name to add a point to. Possible skills are: acrobatics, athletics, bluff, computers, culture, diplomacy, disguise, engineering, intimidate, life science, medicine, mysticism, perception, physical science, piloting, sense motive, slight of hand, stealthpiloting\n",
      "please enter skill name to add a point to. Possible skills are: acrobatics, athletics, bluff, computers, culture, diplomacy, disguise, engineering, intimidate, life science, medicine, mysticism, perception, physical science, sense motive, slight of hand, stealthbluff\n",
      "please enter skill name to add a point to. Possible skills are: acrobatics, athletics, computers, culture, diplomacy, disguise, engineering, intimidate, life science, medicine, mysticism, perception, physical science, sense motive, slight of hand, stealthperception\n",
      "please enter skill name to add a point to. Possible skills are: acrobatics, athletics, computers, culture, diplomacy, disguise, engineering, intimidate, life science, medicine, mysticism, physical science, sense motive, slight of hand, stealthintimidate\n",
      "please enter skill name to add a point to. Possible skills are: acrobatics, athletics, computers, culture, diplomacy, disguise, engineering, life science, medicine, mysticism, physical science, sense motive, slight of hand, stealthathletics\n",
      "please enter skill name to add a point to. Possible skills are: acrobatics, computers, culture, diplomacy, disguise, engineering, life science, medicine, mysticism, physical science, sense motive, slight of hand, stealthcomputers\n",
      "please enter skill name to add a point to. Possible skills are: acrobatics, culture, diplomacy, disguise, engineering, life science, medicine, mysticism, physical science, sense motive, slight of hand, stealthacrobatics\n"
     ]
    }
   ],
   "source": [
    "neidod = character()"
   ]
  },
  {
   "cell_type": "code",
   "execution_count": 17,
   "metadata": {},
   "outputs": [],
   "source": [
    "neidod.featsAndAbilities()"
   ]
  },
  {
   "cell_type": "code",
   "execution_count": null,
   "metadata": {},
   "outputs": [],
   "source": []
  },
  {
   "cell_type": "code",
   "execution_count": 7,
   "metadata": {},
   "outputs": [],
   "source": [
    "second.updateHTML()"
   ]
  },
  {
   "cell_type": "code",
   "execution_count": 6,
   "metadata": {},
   "outputs": [],
   "source": [
    "second = character(\"Neidod\")"
   ]
  },
  {
   "cell_type": "code",
   "execution_count": 29,
   "metadata": {},
   "outputs": [],
   "source": [
    "second.levelUp()"
   ]
  },
  {
   "cell_type": "code",
   "execution_count": null,
   "metadata": {},
   "outputs": [],
   "source": [
    "words, # ignore\n",
    "stats, # add stats\n",
    "feat,  # add a feat\n",
    "spell, # add a spell\n",
    "??,    # make a stat a class knowlege or add +1 to checks\n",
    "?.     # gain +2 in any skill with 0 ranks"
   ]
  },
  {
   "cell_type": "code",
   "execution_count": 1,
   "metadata": {},
   "outputs": [],
   "source": [
    "from feats import feats"
   ]
  },
  {
   "cell_type": "code",
   "execution_count": 2,
   "metadata": {},
   "outputs": [],
   "source": [
    "attributeShorthand = {\n",
    "    \"strength\"     : \"strength\",\n",
    "    \"str\"          : \"strength\",\n",
    "    \"dexterity\"    : \"dexterity\",\n",
    "    \"dex\"          : \"dexterity\",\n",
    "    \"constitution\" : \"constitution\",\n",
    "    \"con\"          : \"constitution\",\n",
    "    \"intelligence\" : \"intelligence\",\n",
    "    \"int\"          : \"intelligence\",\n",
    "    \"wisdom\"       : \"wisdom\",\n",
    "    \"wis\"          : \"wisdom\",\n",
    "    \"charisma\"     : \"charisma\",\n",
    "    \"cha\"          : \"charisma\"\n",
    "}"
   ]
  },
  {
   "cell_type": "code",
   "execution_count": 9,
   "metadata": {},
   "outputs": [],
   "source": [
    "combat = []\n",
    "chosenFeats = []\n",
    "skills = {\n",
    "    \"acrobatics\"       : 0,\n",
    "    \"athletics\"        : 0,\n",
    "    \"bluff\"            : 0,\n",
    "    \"computers\"        : 0,\n",
    "    \"culture\"          : 0,\n",
    "    \"diplomacy\"        : 0,\n",
    "    \"disguise\"         : 0,\n",
    "    \"engineering\"      : 0,\n",
    "    \"intimidate\"       : 0,\n",
    "    \"life science\"     : 0,\n",
    "    \"medicine\"         : 0,\n",
    "    \"mysticism\"        : 0,\n",
    "    \"perception\"       : 0,\n",
    "    \"physical science\" : 0,\n",
    "    \"piloting\"         : 0,\n",
    "    \"profession\"       : 0, #?????????????????\n",
    "    \"profession2\"      : 0, #?????????????????\n",
    "    \"sense motive\"     : 0,\n",
    "    \"slight of hand\"   : 0,\n",
    "    \"stealth\"          : 0,\n",
    "    \"survival\"         : 0,\n",
    "}\n",
    "\n",
    "attributes = {\n",
    "    \"strength\": 10,\n",
    "    \"dexterity\": 10,\n",
    "    \"constitution\": 10,\n",
    "    \"intelligence\": 10,\n",
    "    \"wisdom\": 10,\n",
    "    \"charisma\": 10\n",
    "}\n",
    "\n",
    "saves = {\n",
    "    \"fort\"      : [0, 0, 1, 1, 1, 2, 2, 2, 3, 3, 3, 4, 4, 4, 5, 5, 5, 6, 6, 6],\n",
    "    \"reflex\"    : [2, 3, 3, 4, 4, 5, 5, 6, 6, 7, 7, 8, 8, 9, 9, 10, 10, 11, 11, 12],\n",
    "    \"will\"      : [2, 3, 3, 4, 4, 5, 5, 6, 6, 7, 7, 8, 8, 9, 9, 10, 10, 11, 11, 12],\n",
    "}\n",
    "\n",
    "key = \"dex\"\n",
    "\n",
    "spellLevel = -1\n",
    "\n",
    "bab = 0\n",
    "\n",
    "level = 1\n",
    "\n",
    "className = \"envoy\""
   ]
  },
  {
   "cell_type": "code",
   "execution_count": 27,
   "metadata": {},
   "outputs": [],
   "source": [
    "def checkCombatFeats(combat, checkFeat):\n",
    "    anyCounter = 0\n",
    "    toAdd = True\n",
    "    for feat in checkFeat:\n",
    "        if feat == \"any\":\n",
    "            anyCounter += 1\n",
    "        else:\n",
    "            if feat not in combat:\n",
    "                toAdd = False\n",
    "                break\n",
    "                \n",
    "    if anyCounter > len(combat):\n",
    "        toAdd = False\n",
    "    return toAdd\n",
    "\n",
    "def checkForFeat(chosenFeats, checkFeat):\n",
    "    toAdd = True\n",
    "    for feat in checkFeat:\n",
    "        if feat not in chosenFeats:\n",
    "            toAdd = False\n",
    "            break\n",
    "    return toAdd\n",
    "\n",
    "def checkForSkills(skills, checkSkills):\n",
    "    toAdd = True\n",
    "    for checkSkill in checkSkills:\n",
    "        if not toAdd:\n",
    "            break\n",
    "        if checkSkill[0] == \"from\":\n",
    "            toAdd = False\n",
    "            for fromCheckSkill in checkSkill[1]:\n",
    "                if skills[fromCheckSkill] >= checkSkill[2]:\n",
    "                    toAdd = True\n",
    "                    break\n",
    "        elif len(checkSkill) > 2:\n",
    "            if skills[checkSkill[0]] != checkSkill[1]:\n",
    "                toAdd = False\n",
    "        else:\n",
    "            if skills[checkSkill[0]] < checkSkill[1]:\n",
    "                toAdd = False\n",
    "    return toAdd\n",
    "\n",
    "def checkForAttribute(attributes, checkAttribute):\n",
    "    checkAbility = checkAttribute[0]\n",
    "    if checkAttribute[0] == \"key\":\n",
    "        checkAbility = key\n",
    "    if attributes[attributeShorthand[checkAbility]] >= checkAttribute[1]:\n",
    "        return True\n",
    "    return False\n",
    "\n",
    "def checkForSpellLevel(spellLevel, checkSpellLevel):\n",
    "    if checkSpellLevel == -1:\n",
    "        if spellLevel == -1:\n",
    "            return True\n",
    "    elif spellLevel >= checkSpellLevel:\n",
    "        return True\n",
    "    return False\n",
    "\n",
    "def checkForBab(bab, checkBab):\n",
    "    if bab >= checkBab:\n",
    "        return True\n",
    "    return False\n",
    "\n",
    "def checkForLevel(level, checkLevel):\n",
    "    if level >= checkLevel:\n",
    "        return True\n",
    "    return False\n",
    "\n",
    "def checkForSaves(saves, level, checkSaves):\n",
    "    if saves[checkSaves[0]][level] >= checkSaves[1]:\n",
    "        return True\n",
    "    return False\n",
    "\n",
    "def checkForText(printText):\n",
    "    affirm = ['true', '1', 't', 'y', 'yes']\n",
    "    deny = ['false', '0', 'f', 'n', 'no']\n",
    "    possible = affirm + deny\n",
    "    entered = \"\"\n",
    "    while entered not in possible:\n",
    "        entered = input(printText)\n",
    "    return entered in affirm\n",
    "\n",
    "def checkFrom(fromList, chosenFeats, className):\n",
    "    featTrue = False\n",
    "    classTrue = False\n",
    "    for fromCheck in fromList:\n",
    "        if fromCheck[0] == \"feat\":\n",
    "            for feat in fromCheck[1]:\n",
    "                if feat in chosenFeats:\n",
    "                    featTrue = True\n",
    "                    break\n",
    "        elif fromCheck[0] == \"class\":\n",
    "            classTrue = fromCheck[1] == className\n",
    "                \n",
    "            \n",
    "        else:\n",
    "            print(\"from\", fromCheck[0], \"not implemented\", fromList)\n",
    "    return featTrue or classTrue"
   ]
  },
  {
   "cell_type": "code",
   "execution_count": 19,
   "metadata": {},
   "outputs": [],
   "source": [
    "def filterFeats(combat, chosenFeats, skills, attributes, spellLevel, bab, level, saves, className):\n",
    "    selected = []\n",
    "    for feat in feats:\n",
    "        tmp = feats[feat]\n",
    "        toAdd = True\n",
    "        for check in tmp[1]:\n",
    "            if len(check) > 0:\n",
    "                if check[0] == \"combat\":\n",
    "                    if not checkCombatFeats(combat, check[1]):\n",
    "                        toAdd = False\n",
    "                elif check[0] == \"feat\":\n",
    "                    if not checkForFeat(chosenFeats, check[1]):\n",
    "                        toAdd = False\n",
    "                elif check[0] == \"skills\":\n",
    "                    if not checkForSkills(skills, check[1]):\n",
    "                        toAdd = False\n",
    "                elif check[0] == \"ability\":\n",
    "                    if not checkForAttribute(attributes, check[1]):\n",
    "                        toAdd = False\n",
    "                elif check[0] == \"spellLevel\":\n",
    "                    if not checkForSpellLevel(spellLevel, check[1]):\n",
    "                        toAdd = False\n",
    "                elif check[0] == \"bab\":\n",
    "                    if not checkForBab(bab, check[1]):\n",
    "                        toAdd = False\n",
    "                elif check[0] == \"level\":\n",
    "                    if not checkForLevel(level, check[1]):\n",
    "                        toAdd = False\n",
    "                elif check[0] == \"save\":\n",
    "                    if not checkForSaves(saves, level, check[1]):\n",
    "                        toAdd = False\n",
    "                elif check[0] == \"text\":\n",
    "                    if not checkForText(check[1]):\n",
    "                        toAdd = False\n",
    "                elif check[0] == \"from\":\n",
    "                    if not checkFrom(check[1], chosenFeats, className):\n",
    "                        toAdd = False\n",
    "        if toAdd:\n",
    "            selected.append(feat)\n",
    "    return selected\n",
    "    "
   ]
  },
  {
   "cell_type": "code",
   "execution_count": 28,
   "metadata": {},
   "outputs": [
    {
     "name": "stdout",
     "output_type": "stream",
     "text": [
      "28\n",
      "do you have at least 4 arms?n\n",
      "did you chose the Healer Connection?n\n",
      "caster level at least 4thn\n",
      "are you proficient with the selected weapon?n\n",
      "are you proficient with the selected weapon?n\n",
      "27\n"
     ]
    }
   ],
   "source": [
    "print(len(selected))\n",
    "selected = filterFeats(combat, chosenFeats, skills, attributes, spellLevel, bab, level, saves, className)\n",
    "print(len(selected))"
   ]
  },
  {
   "cell_type": "code",
   "execution_count": 29,
   "metadata": {
    "scrolled": true
   },
   "outputs": [
    {
     "name": "stdout",
     "output_type": "stream",
     "text": [
      "['Basic Melee Weapon Proficiency', 'Blind-Fight', 'Bodyguard', 'Diehard', 'Dive for Cover', 'Diversion', 'Drag Down', 'Fleet', 'Great Fortitude', 'Grenade Proficiency', 'Improved Feint', 'Improved Initiative', 'Improved Unarmed Strike', 'Iron Will', 'Jet Dash', 'Light Armor Proficiency', 'Lightning Reflexes', 'Multi-Weapon Fighting', 'Opening Volley', 'Skill Focus', 'Skill Synergy', 'Small Arm Proficiency', 'Sniper Weapon Proficiency', 'Spell Penetration', 'Spellbane', 'Stand Still', 'Toughness']\n"
     ]
    }
   ],
   "source": [
    "print(selected)"
   ]
  },
  {
   "cell_type": "code",
   "execution_count": null,
   "metadata": {},
   "outputs": [],
   "source": []
  }
 ],
 "metadata": {
  "kernelspec": {
   "display_name": "Python 3",
   "language": "python",
   "name": "python3"
  },
  "language_info": {
   "codemirror_mode": {
    "name": "ipython",
    "version": 3
   },
   "file_extension": ".py",
   "mimetype": "text/x-python",
   "name": "python",
   "nbconvert_exporter": "python",
   "pygments_lexer": "ipython3",
   "version": "3.8.8"
  }
 },
 "nbformat": 4,
 "nbformat_minor": 4
}

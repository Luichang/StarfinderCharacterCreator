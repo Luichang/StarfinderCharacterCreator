{
 "cells": [
  {
   "cell_type": "code",
   "execution_count": 1,
   "metadata": {},
   "outputs": [],
   "source": [
    "from character import character"
   ]
  },
  {
   "cell_type": "code",
   "execution_count": 3,
   "metadata": {
    "scrolled": false
   },
   "outputs": [
    {
     "name": "stdout",
     "output_type": "stream",
     "text": [
      "Enter a Character NameNeidod\n",
      "Please chose a race, options are: android, human, kasatha, lashunta(korasha), lashunta(damaya), shirren, vesk, ysokishirren\n",
      "Chose a theme. Possible themes are: \"ace pilot, bounty hunter, icon, mercenary, outlaw, priest, scholar, spacefarer, xenoseeker, themelessoutlaw\n",
      "Chose a Class. Possible Classes are: envoy, mechanic, mystic, operative, solarian, soldier, technomancerenvoy\n",
      "Currently only point buy system is implemented, if you want to use another system figure\n",
      "                out the conversion yourself.\n",
      "envoy tend to want more points in Charisma or Dexterity and Intelligence\n",
      "You have 10 points left to spend. Chose one from (str)ength, (dex)terity, (con)stitution, (int)elligence, (wis)dom, (cha)rismastr\n",
      "You have 9 points left to spend. Chose one from (str)ength, (dex)terity, (con)stitution, (int)elligence, (wis)dom, (cha)rismastr\n",
      "You have 8 points left to spend. Chose one from (str)ength, (dex)terity, (con)stitution, (int)elligence, (wis)dom, (cha)rismastr\n",
      "You have 7 points left to spend. Chose one from (str)ength, (dex)terity, (con)stitution, (int)elligence, (wis)dom, (cha)rismastr\n",
      "You have 6 points left to spend. Chose one from (str)ength, (dex)terity, (con)stitution, (int)elligence, (wis)dom, (cha)rismastr\n",
      "You have 5 points left to spend. Chose one from (str)ength, (dex)terity, (con)stitution, (int)elligence, (wis)dom, (cha)rismastr\n",
      "You have 4 points left to spend. Chose one from (str)ength, (dex)terity, (con)stitution, (int)elligence, (wis)dom, (cha)rismadex\n",
      "You have 3 points left to spend. Chose one from (str)ength, (dex)terity, (con)stitution, (int)elligence, (wis)dom, (cha)rismadex\n",
      "You have 2 points left to spend. Chose one from (str)ength, (dex)terity, (con)stitution, (int)elligence, (wis)dom, (cha)rismadex\n",
      "You have 1 points left to spend. Chose one from (str)ength, (dex)terity, (con)stitution, (int)elligence, (wis)dom, (cha)rismadex\n",
      "please enter skill name to add a point to. Possible skills are: acrobatics, athletics, bluff, computers, culture, diplomacy, disguise, engineering, intimidate, life science, medicine, mysticism, perception, physical science, piloting, sense motive, slight of hand, stealth, survivalsurvival\n",
      "please enter skill name to add a point to. Possible skills are: acrobatics, athletics, bluff, computers, culture, diplomacy, disguise, engineering, intimidate, life science, medicine, mysticism, perception, physical science, piloting, sense motive, slight of hand, stealthpiloting\n",
      "please enter skill name to add a point to. Possible skills are: acrobatics, athletics, bluff, computers, culture, diplomacy, disguise, engineering, intimidate, life science, medicine, mysticism, perception, physical science, sense motive, slight of hand, stealthbluff\n",
      "please enter skill name to add a point to. Possible skills are: acrobatics, athletics, computers, culture, diplomacy, disguise, engineering, intimidate, life science, medicine, mysticism, perception, physical science, sense motive, slight of hand, stealthperception\n",
      "please enter skill name to add a point to. Possible skills are: acrobatics, athletics, computers, culture, diplomacy, disguise, engineering, intimidate, life science, medicine, mysticism, physical science, sense motive, slight of hand, stealthintimidate\n",
      "please enter skill name to add a point to. Possible skills are: acrobatics, athletics, computers, culture, diplomacy, disguise, engineering, life science, medicine, mysticism, physical science, sense motive, slight of hand, stealthathletics\n",
      "please enter skill name to add a point to. Possible skills are: acrobatics, computers, culture, diplomacy, disguise, engineering, life science, medicine, mysticism, physical science, sense motive, slight of hand, stealthcomputers\n",
      "please enter skill name to add a point to. Possible skills are: acrobatics, culture, diplomacy, disguise, engineering, life science, medicine, mysticism, physical science, sense motive, slight of hand, stealthacrobatics\n"
     ]
    }
   ],
   "source": [
    "neidod = character()"
   ]
  },
  {
   "cell_type": "code",
   "execution_count": 17,
   "metadata": {},
   "outputs": [],
   "source": [
    "neidod.featsAndAbilities()"
   ]
  },
  {
   "cell_type": "code",
   "execution_count": null,
   "metadata": {},
   "outputs": [],
   "source": []
  },
  {
   "cell_type": "code",
   "execution_count": 7,
   "metadata": {},
   "outputs": [],
   "source": [
    "second.updateHTML()"
   ]
  },
  {
   "cell_type": "code",
   "execution_count": 6,
   "metadata": {},
   "outputs": [],
   "source": [
    "second = character(\"Neidod\")"
   ]
  },
  {
   "cell_type": "code",
   "execution_count": 29,
   "metadata": {},
   "outputs": [],
   "source": [
    "second.levelUp()"
   ]
  },
  {
   "cell_type": "code",
   "execution_count": null,
   "metadata": {},
   "outputs": [],
   "source": []
  }
 ],
 "metadata": {
  "kernelspec": {
   "display_name": "Python 3",
   "language": "python",
   "name": "python3"
  },
  "language_info": {
   "codemirror_mode": {
    "name": "ipython",
    "version": 3
   },
   "file_extension": ".py",
   "mimetype": "text/x-python",
   "name": "python",
   "nbconvert_exporter": "python",
   "pygments_lexer": "ipython3",
   "version": "3.8.8"
  }
 },
 "nbformat": 4,
 "nbformat_minor": 4
}
